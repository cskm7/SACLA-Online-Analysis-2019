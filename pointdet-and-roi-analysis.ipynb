{
 "cells": [
  {
   "cell_type": "markdown",
   "metadata": {},
   "source": [
    "# Example of accessing live point detectors and ROI analysis\n",
    "WARNING: Execute these python scripts slowly. Otherwise the execution hangs."
   ]
  },
  {
   "cell_type": "markdown",
   "metadata": {},
   "source": [
    "# Import required libraries"
   ]
  },
  {
   "cell_type": "code",
   "execution_count": 1,
   "metadata": {
    "collapsed": false
   },
   "outputs": [
    {
     "name": "stdout",
     "output_type": "stream",
     "text": [
      "MPCCD threshold is set to 1369.863014\n"
     ]
    }
   ],
   "source": [
    "import os, io, time, sys, socket\n",
    "import numpy as np\n",
    "import pandas as pd\n",
    "\n",
    "# SACLA database library and online analysis library\n",
    "sys.path.append('/home/software/SACLA_tool/local/python3.5/lib/python3.5/site-packages')\n",
    "import dbpy, olpy\n",
    "\n",
    "# Import custom online library\n",
    "import onlineAccess\n",
    "\n",
    "\n",
    "# Plot options\n",
    "# Plots in an external window and not within Jupyter.\n",
    "import matplotlib\n",
    "matplotlib.rcParams['backend']='Qt5Agg'\n",
    "matplotlib.use('Qt5Agg')\n",
    "%matplotlib qt5\n",
    "import matplotlib.pyplot as plt\n",
    "import matplotlib.widgets as widgets\n"
   ]
  },
  {
   "cell_type": "markdown",
   "metadata": {},
   "source": [
    "# Setup data grabber thread"
   ]
  },
  {
   "cell_type": "code",
   "execution_count": 2,
   "metadata": {
    "collapsed": false
   },
   "outputs": [],
   "source": [
    "# Specify number of events to grab data against at a time\n",
    "ngrab = 120\n",
    "\n",
    "# Specify the maximum number of events/tags to save in the thread deques\n",
    "maxTags2Save = 100000\n",
    "\n",
    "# Specify the beamline you are working on\n",
    "bl = 3\n",
    "\n",
    "# Specify a detector to use for reference to get newest event tags\n",
    "refDet='xfel_bl_3_st_5_direct_bm_1_pd/charge'\n",
    "\n",
    "# Generate the dataHandler thread for getting data\n",
    "dh = onlineAccess.dataHandler(  bl=bl, \n",
    "                              refDet=refDet, \n",
    "                              ngrab=ngrab, \n",
    "                              maxTags2Save = maxTags2Save )"
   ]
  },
  {
   "cell_type": "markdown",
   "metadata": {},
   "source": [
    "# Lookup available array detectors"
   ]
  },
  {
   "cell_type": "code",
   "execution_count": 10,
   "metadata": {
    "collapsed": false
   },
   "outputs": [
    {
     "data": {
      "text/plain": [
       "('MPCCD-1N0-M06-004',\n",
       " 'MPCCD-2N0-1-006',\n",
       " 'MPCCD-2N0-1-006-1',\n",
       " 'MPCCD-2N0-1-006-2')"
      ]
     },
     "execution_count": 10,
     "metadata": {},
     "output_type": "execute_result"
    }
   ],
   "source": [
    "onlineAccess.getCurrentDetectorList(3)"
   ]
  },
  {
   "cell_type": "markdown",
   "metadata": {},
   "source": [
    "# Lookup available point detectors "
   ]
  },
  {
   "cell_type": "code",
   "execution_count": null,
   "metadata": {},
   "outputs": [],
   "source": [
    "onlineAccess.getEquipmentList()"
   ]
  },
  {
   "cell_type": "markdown",
   "metadata": {},
   "source": [
    "# Specify the point detectors and ROIs to grab"
   ]
  },
  {
   "cell_type": "code",
   "execution_count": 3,
   "metadata": {
    "collapsed": false
   },
   "outputs": [],
   "source": [
    "# point detectors are input as a list. \n",
    "# These names can be found using the function above or in the web interface for looking up data\n",
    "# on the opcon computers.\n",
    "\n",
    "pointDetectors = ['xfel_bl_3_st_5_direct_bm_1_pd/charge',\n",
    "                 'xfel_bl_3_tc_bm_1_pd/charge',\n",
    "                 'xfel_bl_3_tc_bm_2_pd/charge', \n",
    "                 'xfel_bl_3_tc_spec_1/energy',\n",
    "                 'xfel_mon_bpm_bl3_0_3_beamstatus/summary',\n",
    "                 'xfel_bl_3_shutter_1_open_valid/status',\n",
    "                 'xfel_bl_3_st_5_motor_user_1/position',\n",
    "                 'xfel_bl_3_st_5_motor_user_2/position',\n",
    "                 'xfel_bl_3_st_5_motor_user_3/position',\n",
    "                 'xfel_bl_3_st_5_motor_user_4/position',\n",
    "                 'xfel_bl_3_st_5_motor_user_5/position',\n",
    "                 'xfel_bl_3_st_5_motor_user_15/position',\n",
    "                 'xfel_bl_3_st_5_motor_facility_14/position',\n",
    "                 'xfel_bl_3_st_5_motor_user_18/position',\n",
    "                 'xfel_bl_3_st_5_motor_facility_10/position',\n",
    "                 'xfel_bl_3_st_5_pd_user_5_fitting_peak/voltage']\n",
    "\n",
    "dh.setPointDetector( pointDetectors )\n",
    "\n",
    "# point detectors are input as a list. \n",
    "# These names can be found using the function above or in the web interface for looking up data\n",
    "# on the opcon computers.\n",
    "rois = { 'fullSingle': {'Detector':'MPCCD-1N0-M06-004',\n",
    "                 'X1':0,\n",
    "                 'X2':511,\n",
    "                 'Y1':0,\n",
    "                 'Y2':1023} } \n",
    "\n",
    "# COMMENT ME OUT IF THE DETECTOR IS NOT SETUP. OTHERWISE CODE WILL CRASH.\n",
    "# If you'd like to debug code before experiment, there exist an anapc simulation environment.\n",
    "dh.setROIs(rois)"
   ]
  },
  {
   "cell_type": "markdown",
   "metadata": {},
   "source": [
    "### Begin execution of thread"
   ]
  },
  {
   "cell_type": "code",
   "execution_count": 4,
   "metadata": {
    "collapsed": false,
    "scrolled": true
   },
   "outputs": [],
   "source": [
    "dh.start()"
   ]
  },
  {
   "cell_type": "markdown",
   "metadata": {},
   "source": [
    "### Request termination of thread (leave commented, except when you want to kill thread)"
   ]
  },
  {
   "cell_type": "code",
   "execution_count": 5,
   "metadata": {
    "collapsed": false
   },
   "outputs": [],
   "source": [
    "# dh.requestStop()"
   ]
  },
  {
   "cell_type": "markdown",
   "metadata": {},
   "source": [
    "### Print status of thread"
   ]
  },
  {
   "cell_type": "code",
   "execution_count": 6,
   "metadata": {
    "collapsed": false
   },
   "outputs": [
    {
     "name": "stdout",
     "output_type": "stream",
     "text": [
      "Waiting for initialization, point detectors initialized, rois initialized, running\n",
      "running for 1.565703 s\n"
     ]
    }
   ],
   "source": [
    "print(dh.status)\n",
    "print(\"running for %f s\"%dh.elapse)"
   ]
  },
  {
   "cell_type": "markdown",
   "metadata": {},
   "source": [
    "### Print names of detectors / rois being saved"
   ]
  },
  {
   "cell_type": "code",
   "execution_count": 7,
   "metadata": {
    "collapsed": false
   },
   "outputs": [
    {
     "name": "stdout",
     "output_type": "stream",
     "text": [
      "Keys being grabbed:\n",
      "['xfel_bl_3_st_5_direct_bm_1_pd/charge', 'xfel_bl_3_st_5_pd_user_5_fitting_peak/voltage', 'xfel_mon_bpm_bl3_0_3_beamstatus/summary', 'xfel_bl_3_st_5_motor_user_5/position', 'dummy', 'xfel_bl_3_st_5_motor_user_4/position', 'xfel_bl_3_tc_spec_1/energy', 'xfel_bl_3_st_5_motor_user_3/position', 'xfel_bl_3_st_5_motor_user_15/position', 'tags', 'xfel_bl_3_tc_bm_1_pd/charge', 'xfel_bl_3_shutter_1_open_valid/status', 'xfel_bl_3_st_5_motor_user_1/position', 'xfel_bl_3_tc_bm_2_pd/charge', 'xfel_bl_3_st_5_motor_user_2/position', 'fullSingle', 'xfel_bl_3_st_5_motor_user_18/position', 'xfel_bl_3_st_5_motor_facility_14/position', 'xfel_bl_3_st_5_motor_facility_10/position']\n"
     ]
    }
   ],
   "source": [
    "print(\"Keys being grabbed:\")\n",
    "print(list(dh.dequeDicts.keys()))"
   ]
  },
  {
   "cell_type": "markdown",
   "metadata": {},
   "source": [
    "# Setup plotting"
   ]
  },
  {
   "cell_type": "code",
   "execution_count": 9,
   "metadata": {
    "collapsed": false
   },
   "outputs": [],
   "source": [
    "plotEveryNtags = 2000\n",
    "\n",
    "def isData( anArray ):\n",
    "    return (np.abs(anArray)>0) & (~np.isnan(anArray))\n",
    "'''\n",
    "The function below specifies the analysis and plot setup.\n",
    "'''\n",
    "def updatePlots( ax , dh , plotLast = 2000, photonEnergykeV = 1, solidAngle = 1  ):\n",
    "    # Tags\n",
    "    tags = dh['tags'][-plotLast:]\n",
    "\n",
    "    # Beam status\n",
    "    beamCharge = dh['xfel_bl_3_st_5_direct_bm_1_pd/charge'][-plotLast:]\n",
    "\n",
    "    # Grab only nonzero indexes\n",
    "    beamOn = isData(beamStatus)\n",
    "\n",
    "    # Beam charge v MPCCD\n",
    "    idxs = isData(beamCharge) & beamOn \n",
    "    ax.scatter( tags[idxs] ,(beamCharge[idxs]*1.e9), s=3, c='b' ) \n",
    "    ax.set_xlabel('tags')\n",
    "    ax.set_ylabel('beamCharge')\n",
    "    \n",
    "    "
   ]
  },
  {
   "cell_type": "markdown",
   "metadata": {},
   "source": [
    "# Run plotting"
   ]
  },
  {
   "cell_type": "code",
   "execution_count": null,
   "metadata": {
    "collapsed": false
   },
   "outputs": [
    {
     "name": "stderr",
     "output_type": "stream",
     "text": [
      "/home/mrware/anaconda3/lib/python3.5/site-packages/matplotlib/backend_bases.py:2437: MatplotlibDeprecationWarning: Using default event loop until function specific to this GUI is implemented\n",
      "  warnings.warn(str, mplDeprecation)\n"
     ]
    }
   ],
   "source": [
    "# Setup the figure and axes for plotting\n",
    "fig,ax=plt.subplots()\n",
    "plt.axis('off')\n",
    "fig.show()\n",
    "figure_open=True\n",
    "\n",
    "# Tells loop to exit if the figure is closed\n",
    "def close_event_handler(evt):\n",
    "    global figure_open\n",
    "    figure_open=False\n",
    "    print(\"closed figure\")\n",
    "fig.canvas.mpl_connect('close_event',close_event_handler)   \n",
    "\n",
    "# Figure updated every ngrab/30. seconds\n",
    "while figure_open:\n",
    "    # Pause data grabber while plotting\n",
    "    dh.pause()\n",
    "    while dh.isPaused is False:\n",
    "        continue\n",
    "    \n",
    "    #add plots here\n",
    "    ax.clear()\n",
    "    updatePlots( ax , dh , plotLast = plotEveryNtags, photonEnergykeV = photonEnergykeV, solidAngle = solidAngle  )\n",
    "\n",
    "    # Restart data grabber\n",
    "    dh.restart()  \n",
    "    t0 = time.time()\n",
    "    \n",
    "    fig.canvas.draw()\n",
    "    plt.pause(ngrab/30.)\n",
    "    \n",
    "    \n",
    "print(\"done plotting\")"
   ]
  }
 ],
 "metadata": {
  "anaconda-cloud": {},
  "kernelspec": {
   "display_name": "Python 2",
   "language": "python",
   "name": "python2"
  },
  "language_info": {
   "codemirror_mode": {
    "name": "ipython",
    "version": 2
   },
   "file_extension": ".py",
   "mimetype": "text/x-python",
   "name": "python",
   "nbconvert_exporter": "python",
   "pygments_lexer": "ipython2",
   "version": "2.7.14"
  }
 },
 "nbformat": 4,
 "nbformat_minor": 2
}
