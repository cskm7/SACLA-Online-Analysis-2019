{
 "cells": [
  {
   "cell_type": "markdown",
   "metadata": {},
   "source": [
    "# Import required libraries"
   ]
  },
  {
   "cell_type": "code",
   "execution_count": 9,
   "metadata": {
    "collapsed": false
   },
   "outputs": [],
   "source": [
    "import os, io, time, sys, socket\n",
    "import numpy as np\n",
    "import pandas as pd\n",
    "\n",
    "# SACLA database library and online analysis library\n",
    "sys.path.append('/home/software/SACLA_tool/local/python3.5/lib/python3.5/site-packages')\n",
    "import dbpy, olpy\n",
    "\n",
    "# Import custom online library\n",
    "import onlineAccess\n",
    "\n",
    "\n",
    "# Plot options\n",
    "import matplotlib\n",
    "matplotlib.rcParams['backend']='Qt5Agg'\n",
    "matplotlib.use('Qt5Agg')\n",
    "%matplotlib qt5\n",
    "import matplotlib.pyplot as plt\n",
    "import matplotlib.widgets as widgets"
   ]
  },
  {
   "cell_type": "markdown",
   "metadata": {},
   "source": [
    "# Print available detectors"
   ]
  },
  {
   "cell_type": "code",
   "execution_count": 10,
   "metadata": {
    "collapsed": false
   },
   "outputs": [
    {
     "data": {
      "text/plain": [
       "('MPCCD-1N0-M06-004',\n",
       " 'MPCCD-2N0-1-006',\n",
       " 'MPCCD-2N0-1-006-1',\n",
       " 'MPCCD-2N0-1-006-2')"
      ]
     },
     "execution_count": 10,
     "metadata": {},
     "output_type": "execute_result"
    }
   ],
   "source": [
    "onlineAccess.getCurrentDetectorList(3)"
   ]
  },
  {
   "cell_type": "markdown",
   "metadata": {},
   "source": [
    "# How to grab a detector image"
   ]
  },
  {
   "cell_type": "code",
   "execution_count": null,
   "metadata": {
    "collapsed": false
   },
   "outputs": [],
   "source": [
    "NX = 512\n",
    "NY = 1024\n",
    "    \n",
    "def dummyAvg():   \n",
    "    xs = np.arange(NX)\n",
    "    ys = np.arange(NY)\n",
    "    XX,YY = np.meshgrid( xs,ys )\n",
    "    sig = 100.\n",
    "    data = np.exp( (-( XX - NX/2. )**2. - (YY-NY/2.)**2.)/(2.*sig**2.)) \n",
    "    return data\n",
    "    \n",
    "def dummyTile():    \n",
    "    xs = np.arange(NX)\n",
    "    ys = np.arange(NY)\n",
    "    XX,YY = np.meshgrid( xs,ys )\n",
    "    \n",
    "    kx = 2*np.pi/100\n",
    "    ky =  2*np.pi/100\n",
    "    eps = 1.\n",
    "    phi = np.random.random()*2.*np.pi\n",
    "    \n",
    "    data = dummyAvg() *( 1 + eps*np.cos( kx*XX+ky*YY+phi ) )\n",
    "    return data\n",
    "\n",
    "def grabDetector( detectorName, bl=3, refDet='xfel_bl_3_st_5_direct_bm_1_pd/charge' ):\n",
    "    if detectorName is 'debug':\n",
    "        dummyTag = onlineAccess.getNewestTag('xfel_bl_3_st_5_direct_bm_1_pd/charge' )\n",
    "        dummyHightag = onlineAccess.getCurrentHighTag(3)\n",
    "        return dummyTile(), dummyTag, dummyHightag\n",
    "    else:\n",
    "        return onlineAccess.grabNewestDetector(detectorName, bl=3, refDet='xfel_bl_3_st_5_direct_bm_1_pd/charge')\n",
    "    \n",
    "def thresholdDet( detector , threshold ):\n",
    "    newDet = np.copy(detector)\n",
    "    newDet[newDet < threshold] = 0\n",
    "    return newDet\n",
    "\n",
    "def makeRing( xc , yc , radius , NTH = 100 ):\n",
    "    angles = np.linspace( 0 , 2*np.pi , NTH)\n",
    "    xs = radius*np.cos(angles) + xc\n",
    "    ys = radius*np.sin(angles) + yc\n",
    "    return xs,ys\n",
    "\n",
    "def plotRing(  xc , yc , radius , NTH = 100, ax=None ):\n",
    "    xs,ys = makeRing( xc , yc , radius , NTH )\n",
    "    ax.plot(xs , ys, 'w-', linewidth=2)\n",
    "    \n",
    "def findCenter( detector ):\n",
    "    sumDet = np.sum(detector[:])\n",
    "    \n",
    "    xs = np.arange(NX)\n",
    "    ys = np.arange(NY)\n",
    "    XX,YY = np.meshgrid( xs,ys )\n",
    "    \n",
    "    xavg = np.sum( (XX*detector).flatten() ) / sumDet\n",
    "    yavg = np.sum( (YY*detector).flatten() ) / sumDet\n",
    "    \n",
    "    return xavg, yavg\n",
    "    \n",
    "def plotCenter( detector , ax=None ):\n",
    "    xc, yc = findCenter(detector)\n",
    "    ax.scatter(xc,yc, s=100, c='w', marker='x')\n",
    "    ax.set_title('Center at xc=%f and yc=%f' % (xc,yc))\n",
    "    \n",
    "def fastAutocorrelation( detector ):\n",
    "    newDet = np.copy(detector)\n",
    "    newDet -= np.mean(newDet[:])\n",
    "    fftFrame = np.fft.fftshift(np.fft.fft2( newDet ))\n",
    "    return np.abs(np.fft.ifftshift(np.fft.ifft2( np.abs( fftFrame )**2 )))\n",
    "    \n",
    "def getStatus(tag, hightag):\n",
    "    machineStatusName = 'xfel_mon_bpm_bl3_0_3_beamstatus/summary'\n",
    "    status = onlineAccess.getEquip( (tag,) , equip = machineStatusName , hightag=hightag )\n",
    "    return (status[0]>0.1)\n",
    "\n",
    "def  updateMPCCDOrientationPlot( ax, cax, detectorName , integrateOver = 100):\n",
    "    intMPCCD = np.zeros( (NY,NX) )\n",
    "    nframes = 0\n",
    "\n",
    "    for idx in range(integrateOver):\n",
    "        detFrame, tag, hightag = grabDetector(detectorName)\n",
    "\n",
    "        if getStatus(tag,hightag) is False:\n",
    "            continue\n",
    "\n",
    "        nframes += 1.\n",
    "        intMPCCD += detFrame*3.65\n",
    "        time.sleep(1./29.)\n",
    "\n",
    "    im=ax.imshow( (intMPCCD/nframes) )\n",
    "    fig.colorbar(im,cax=cax,orientation='vertical')\n",
    "    plotRing( NX/2. , NY/2. , radius = 60, ax=ax )\n",
    "    plotRing( NX/2. , NY/2. , radius = 120, ax=ax )\n",
    "    plotRing( NX/2. , NY/2. , radius = 240, ax=ax )\n",
    "    plotCenter( intMPCCD, ax )\n",
    "    ax.set_xlim(0,512)\n",
    "    ax.set_ylim(0,1024)\n",
    "    \n",
    "def updateMPCCDHistogramPlot( ax, detectorName , integrateOver = 100):\n",
    "    intMPCCD = np.zeros( (NY,NX) )\n",
    "    nframes = 0\n",
    "\n",
    "    for idx in range(integrateOver):\n",
    "        detFrame, tag, hightag = grabDetector(detectorName)\n",
    "\n",
    "        if getStatus(tag,hightag) is False:\n",
    "            continue\n",
    "\n",
    "        nframes += 1.\n",
    "        intMPCCD += detFrame\n",
    "        time.sleep(1./29.)\n",
    "\n",
    "    histMe = np.copy(intMPCCD[:]/nframes)\n",
    "    counts,bins = np.histogram(histMe,bins=100)\n",
    "    db = bins[1]-bins[0]\n",
    "    \n",
    "    meanHeight = np.mean( histMe )\n",
    "    std = np.std(histMe)\n",
    "    \n",
    "    ax.semilogy(bins[1:]-db/2.,counts)  \n",
    "    ax.set_xlabel('Gain-corrected MPCCD pixel height')\n",
    "    ax.set_ylabel('Number of pixels')\n",
    "    ax.set_title('MPCCD histogram: mean=%f, std=%f' % (meanHeight,std))"
   ]
  },
  {
   "cell_type": "markdown",
   "metadata": {},
   "source": [
    "# Orienting MPCCD"
   ]
  },
  {
   "cell_type": "code",
   "execution_count": null,
   "metadata": {
    "collapsed": true
   },
   "outputs": [],
   "source": [
    "# detectorName = 'debug'\n",
    "detectorName = 'MPCCD-1N0-M06-004'\n",
    "\n",
    "integrateOver = 10"
   ]
  },
  {
   "cell_type": "code",
   "execution_count": null,
   "metadata": {
    "collapsed": false
   },
   "outputs": [],
   "source": [
    "fig,ax=plt.subplots()\n",
    "cax=fig.add_axes([0.8,0.1,0.1,0.6])\n",
    "plt.axis('off')\n",
    "fig.show()\n",
    "figure_open=True\n",
    "\n",
    "\n",
    "def close_event_handler(evt):\n",
    "    global figure_open\n",
    "    figure_open=False\n",
    "    print(\"closed figure\")\n",
    "fig.canvas.mpl_connect('close_event',close_event_handler)   \n",
    "\n",
    "\n",
    "while figure_open:   \n",
    "    #add plots here\n",
    "    ax.clear()\n",
    "    cax.clear()\n",
    "    updateMPCCDOrientationPlot( ax, cax, detectorName , integrateOver = integrateOver)\n",
    "    \n",
    "    fig.canvas.draw()\n",
    "    plt.pause(2)\n",
    "print(\"done plotting\")"
   ]
  }
 ],
 "metadata": {
  "anaconda-cloud": {},
  "kernelspec": {
   "display_name": "Python 2",
   "language": "python",
   "name": "python2"
  },
  "language_info": {
   "codemirror_mode": {
    "name": "ipython",
    "version": 2
   },
   "file_extension": ".py",
   "mimetype": "text/x-python",
   "name": "python",
   "nbconvert_exporter": "python",
   "pygments_lexer": "ipython2",
   "version": "2.7.14"
  }
 },
 "nbformat": 4,
 "nbformat_minor": 2
}
